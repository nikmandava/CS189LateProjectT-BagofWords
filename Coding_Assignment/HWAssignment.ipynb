{
 "cells": [
  {
   "cell_type": "markdown",
   "metadata": {},
   "source": [
    "# Bag of Words Yelp Sentiment Analysis Project"
   ]
  },
  {
   "cell_type": "code",
   "execution_count": 2,
   "metadata": {},
   "outputs": [],
   "source": [
    "import numpy as np\n",
    "import pandas as pd\n",
    "import matplotlib.pyplot as plt\n",
    "from sklearn.linear_model import LogisticRegression\n",
    "import json\n",
    "\n",
    "from collections import Counter\n",
    "\n"
   ]
  },
  {
   "cell_type": "markdown",
   "metadata": {},
   "source": [
    "## 1. Exploring the data set\n",
    "Here we explore the yelp dataset review. We use a dataset with Yelp reviews and a 1-5 star rating associated with it to learn how to use the bag of words model to conduct sentiment analysis."
   ]
  },
  {
   "cell_type": "code",
   "execution_count": 3,
   "metadata": {},
   "outputs": [],
   "source": [
    "df = pd.read_csv('yelp_academic_dataset_review.csv') "
   ]
  },
  {
   "cell_type": "markdown",
   "metadata": {},
   "source": [
    "We simply grab all the one star and five star data from the dataset here. "
   ]
  },
  {
   "cell_type": "code",
   "execution_count": 7,
   "metadata": {},
   "outputs": [
    {
     "name": "stdout",
     "output_type": "stream",
     "text": [
      "Shape of the ones input: \n",
      "(10000, 9)\n",
      "Shape of the fives input: \n",
      "(10000, 9)\n",
      "Data Frame of reviews:\n"
     ]
    },
    {
     "data": {
      "text/html": [
       "<div>\n",
       "<style scoped>\n",
       "    .dataframe tbody tr th:only-of-type {\n",
       "        vertical-align: middle;\n",
       "    }\n",
       "\n",
       "    .dataframe tbody tr th {\n",
       "        vertical-align: top;\n",
       "    }\n",
       "\n",
       "    .dataframe thead th {\n",
       "        text-align: right;\n",
       "    }\n",
       "</style>\n",
       "<table border=\"1\" class=\"dataframe\">\n",
       "  <thead>\n",
       "    <tr style=\"text-align: right;\">\n",
       "      <th></th>\n",
       "      <th>business_id</th>\n",
       "      <th>cool</th>\n",
       "      <th>date</th>\n",
       "      <th>funny</th>\n",
       "      <th>review_id</th>\n",
       "      <th>stars</th>\n",
       "      <th>text</th>\n",
       "      <th>useful</th>\n",
       "      <th>user_id</th>\n",
       "    </tr>\n",
       "  </thead>\n",
       "  <tbody>\n",
       "    <tr>\n",
       "      <th>4428</th>\n",
       "      <td>IhNASEZ3XnBHmuuVnWdIwA</td>\n",
       "      <td>1</td>\n",
       "      <td>2017-03-27 06:50:00</td>\n",
       "      <td>0</td>\n",
       "      <td>2-ZMoSug-pL7unD5u2EwdA</td>\n",
       "      <td>1</td>\n",
       "      <td>Love this tea bar! You HAVE to try their iced ...</td>\n",
       "      <td>0</td>\n",
       "      <td>xTxzruMecRRb2hMQ6QzuMA</td>\n",
       "    </tr>\n",
       "    <tr>\n",
       "      <th>27667</th>\n",
       "      <td>1jPLv-vyjPSvtl2ntSfdgA</td>\n",
       "      <td>0</td>\n",
       "      <td>2015-05-13 14:45:04</td>\n",
       "      <td>0</td>\n",
       "      <td>_H69rwEWQMY8jxhGHiDtVw</td>\n",
       "      <td>-1</td>\n",
       "      <td>Very unprofessional!!!!  Charged be $650.00 fo...</td>\n",
       "      <td>2</td>\n",
       "      <td>rm72k7hmPx3C2x7NF45KlQ</td>\n",
       "    </tr>\n",
       "    <tr>\n",
       "      <th>18012</th>\n",
       "      <td>gE_ez1graX93gASNsttgUg</td>\n",
       "      <td>0</td>\n",
       "      <td>2016-10-27 18:53:52</td>\n",
       "      <td>0</td>\n",
       "      <td>pY2iahDsorXonyILcaHVmQ</td>\n",
       "      <td>1</td>\n",
       "      <td>Fantastic service!  I was in town for a weddin...</td>\n",
       "      <td>1</td>\n",
       "      <td>irJKUrPxs5Z5fTvya-JVyA</td>\n",
       "    </tr>\n",
       "    <tr>\n",
       "      <th>6186</th>\n",
       "      <td>GwcfhhBoAUT-kJQpDjsHxQ</td>\n",
       "      <td>0</td>\n",
       "      <td>2017-05-26 01:58:23</td>\n",
       "      <td>0</td>\n",
       "      <td>9rlrMOfKUznLPhyBHFvbLw</td>\n",
       "      <td>-1</td>\n",
       "      <td>Workers are not friendly, rude and lazy.  They...</td>\n",
       "      <td>0</td>\n",
       "      <td>5wKlVEkZMYmPy6e9p9kPpA</td>\n",
       "    </tr>\n",
       "    <tr>\n",
       "      <th>42765</th>\n",
       "      <td>tM_MMrMFwf5rJv9rbu4NQQ</td>\n",
       "      <td>0</td>\n",
       "      <td>2014-04-02 01:49:51</td>\n",
       "      <td>0</td>\n",
       "      <td>XDlOnf3SRz4UElr3C4tMbw</td>\n",
       "      <td>-1</td>\n",
       "      <td>This is actually a nice location with lots of ...</td>\n",
       "      <td>1</td>\n",
       "      <td>kR-sICS5zHap_0sic6GtTQ</td>\n",
       "    </tr>\n",
       "    <tr>\n",
       "      <th>...</th>\n",
       "      <td>...</td>\n",
       "      <td>...</td>\n",
       "      <td>...</td>\n",
       "      <td>...</td>\n",
       "      <td>...</td>\n",
       "      <td>...</td>\n",
       "      <td>...</td>\n",
       "      <td>...</td>\n",
       "      <td>...</td>\n",
       "    </tr>\n",
       "    <tr>\n",
       "      <th>54437</th>\n",
       "      <td>vYKZHWBuBT1PUevggLAE9w</td>\n",
       "      <td>0</td>\n",
       "      <td>2017-01-03 01:21:54</td>\n",
       "      <td>0</td>\n",
       "      <td>qO6mORLcXF6x2a0rOJ7-NA</td>\n",
       "      <td>-1</td>\n",
       "      <td>Bad customer service ever i never see ... Juli...</td>\n",
       "      <td>0</td>\n",
       "      <td>HDE-FpPUd4I6PL53UVsXHg</td>\n",
       "    </tr>\n",
       "    <tr>\n",
       "      <th>3979</th>\n",
       "      <td>viji5rHhNlsy9w-JmUhyaw</td>\n",
       "      <td>0</td>\n",
       "      <td>2016-03-06 23:39:47</td>\n",
       "      <td>0</td>\n",
       "      <td>bLuvNJ0uruIC5xZRtUkuZA</td>\n",
       "      <td>1</td>\n",
       "      <td>The service from Nick was amazing. It was my b...</td>\n",
       "      <td>0</td>\n",
       "      <td>_FBFGIcazgiM4j700y_XVg</td>\n",
       "    </tr>\n",
       "    <tr>\n",
       "      <th>63846</th>\n",
       "      <td>lpxj6LFir23Ds6swW8a6fg</td>\n",
       "      <td>0</td>\n",
       "      <td>2014-09-28 01:36:48</td>\n",
       "      <td>0</td>\n",
       "      <td>0skWU7rHVrhTDGXnpQ2jMQ</td>\n",
       "      <td>-1</td>\n",
       "      <td>One of the worst meals I've had in a long time...</td>\n",
       "      <td>0</td>\n",
       "      <td>BEv425u9HOYh8QlblM_6jg</td>\n",
       "    </tr>\n",
       "    <tr>\n",
       "      <th>3341</th>\n",
       "      <td>UCpUOtvqR-NBWBNVMzJleA</td>\n",
       "      <td>0</td>\n",
       "      <td>2015-03-18 18:18:41</td>\n",
       "      <td>0</td>\n",
       "      <td>30Jt5_OsmoHlIRgTaSQkpg</td>\n",
       "      <td>-1</td>\n",
       "      <td>We arrived for a couple of drinks after having...</td>\n",
       "      <td>1</td>\n",
       "      <td>MEvfuV0jyJ3H8Db3xw7m8A</td>\n",
       "    </tr>\n",
       "    <tr>\n",
       "      <th>18527</th>\n",
       "      <td>CucyObcVxgqte8dH8nLopA</td>\n",
       "      <td>0</td>\n",
       "      <td>2015-09-24 01:01:26</td>\n",
       "      <td>0</td>\n",
       "      <td>-L5T4g_i53cjUvQn5QqSEQ</td>\n",
       "      <td>-1</td>\n",
       "      <td>What has happened to this location? We have be...</td>\n",
       "      <td>1</td>\n",
       "      <td>P8w4YBgNcYct6BeIut9cEw</td>\n",
       "    </tr>\n",
       "  </tbody>\n",
       "</table>\n",
       "<p>20000 rows × 9 columns</p>\n",
       "</div>"
      ],
      "text/plain": [
       "                  business_id  cool                 date  funny  \\\n",
       "4428   IhNASEZ3XnBHmuuVnWdIwA     1  2017-03-27 06:50:00      0   \n",
       "27667  1jPLv-vyjPSvtl2ntSfdgA     0  2015-05-13 14:45:04      0   \n",
       "18012  gE_ez1graX93gASNsttgUg     0  2016-10-27 18:53:52      0   \n",
       "6186   GwcfhhBoAUT-kJQpDjsHxQ     0  2017-05-26 01:58:23      0   \n",
       "42765  tM_MMrMFwf5rJv9rbu4NQQ     0  2014-04-02 01:49:51      0   \n",
       "...                       ...   ...                  ...    ...   \n",
       "54437  vYKZHWBuBT1PUevggLAE9w     0  2017-01-03 01:21:54      0   \n",
       "3979   viji5rHhNlsy9w-JmUhyaw     0  2016-03-06 23:39:47      0   \n",
       "63846  lpxj6LFir23Ds6swW8a6fg     0  2014-09-28 01:36:48      0   \n",
       "3341   UCpUOtvqR-NBWBNVMzJleA     0  2015-03-18 18:18:41      0   \n",
       "18527  CucyObcVxgqte8dH8nLopA     0  2015-09-24 01:01:26      0   \n",
       "\n",
       "                    review_id  stars  \\\n",
       "4428   2-ZMoSug-pL7unD5u2EwdA      1   \n",
       "27667  _H69rwEWQMY8jxhGHiDtVw     -1   \n",
       "18012  pY2iahDsorXonyILcaHVmQ      1   \n",
       "6186   9rlrMOfKUznLPhyBHFvbLw     -1   \n",
       "42765  XDlOnf3SRz4UElr3C4tMbw     -1   \n",
       "...                       ...    ...   \n",
       "54437  qO6mORLcXF6x2a0rOJ7-NA     -1   \n",
       "3979   bLuvNJ0uruIC5xZRtUkuZA      1   \n",
       "63846  0skWU7rHVrhTDGXnpQ2jMQ     -1   \n",
       "3341   30Jt5_OsmoHlIRgTaSQkpg     -1   \n",
       "18527  -L5T4g_i53cjUvQn5QqSEQ     -1   \n",
       "\n",
       "                                                    text  useful  \\\n",
       "4428   Love this tea bar! You HAVE to try their iced ...       0   \n",
       "27667  Very unprofessional!!!!  Charged be $650.00 fo...       2   \n",
       "18012  Fantastic service!  I was in town for a weddin...       1   \n",
       "6186   Workers are not friendly, rude and lazy.  They...       0   \n",
       "42765  This is actually a nice location with lots of ...       1   \n",
       "...                                                  ...     ...   \n",
       "54437  Bad customer service ever i never see ... Juli...       0   \n",
       "3979   The service from Nick was amazing. It was my b...       0   \n",
       "63846  One of the worst meals I've had in a long time...       0   \n",
       "3341   We arrived for a couple of drinks after having...       1   \n",
       "18527  What has happened to this location? We have be...       1   \n",
       "\n",
       "                      user_id  \n",
       "4428   xTxzruMecRRb2hMQ6QzuMA  \n",
       "27667  rm72k7hmPx3C2x7NF45KlQ  \n",
       "18012  irJKUrPxs5Z5fTvya-JVyA  \n",
       "6186   5wKlVEkZMYmPy6e9p9kPpA  \n",
       "42765  kR-sICS5zHap_0sic6GtTQ  \n",
       "...                       ...  \n",
       "54437  HDE-FpPUd4I6PL53UVsXHg  \n",
       "3979   _FBFGIcazgiM4j700y_XVg  \n",
       "63846  BEv425u9HOYh8QlblM_6jg  \n",
       "3341   MEvfuV0jyJ3H8Db3xw7m8A  \n",
       "18527  P8w4YBgNcYct6BeIut9cEw  \n",
       "\n",
       "[20000 rows x 9 columns]"
      ]
     },
     "execution_count": 7,
     "metadata": {},
     "output_type": "execute_result"
    }
   ],
   "source": [
    "# Get one star reviews and label them with -1\n",
    "dfOnes = df[df['stars'] == 1]\n",
    "dfOnes = dfOnes.head(10000)\n",
    "dfOnes['stars'] = dfOnes['stars'].apply(lambda x: -1)\n",
    "\n",
    "# Get five star reviews and label them with 1\n",
    "print(\"Shape of the ones input: \")\n",
    "print(dfOnes.shape)\n",
    "dfFives = df[df['stars'] == 5]\n",
    "dfFives = dfFives.head(10000)\n",
    "dfFives['stars'] = dfFives['stars'].apply(lambda x: 1)\n",
    "\n",
    "print(\"Shape of the fives input: \")\n",
    "print(dfFives.shape)\n",
    "dfCombined = pd.concat([dfOnes, dfFives], axis=0)\n",
    "dfCombined = dfCombined.sample(frac=1)\n",
    "\n",
    "dfTrainset = dfCombined.head(int(len(dfCombined.index) * .8))\n",
    "dfTestset = dfCombined.tail(int(len(dfCombined.index) * .2))\n",
    "\n",
    "trainX = np.asarray(dfTrainset['text'])\n",
    "trainY = np.asarray(dfTrainset['stars'])\n",
    "\n",
    "testX = np.asarray(dfTestset['text'])\n",
    "testY = np.asarray(dfTestset['stars'])\n",
    "\n",
    "print('Data Frame of reviews:')\n",
    "dfCombined"
   ]
  },
  {
   "cell_type": "markdown",
   "metadata": {},
   "source": [
    "### Part A: Review Data Sampling"
   ]
  },
  {
   "cell_type": "markdown",
   "metadata": {},
   "source": [
    "Try to run the below block multiple times to see different reviews and the classification assigned to the review. Please comment below on what interesting aspects of the reviews you find to lead to certain classifications. What distinguishes between a classification of 1 and one of -1."
   ]
  },
  {
   "cell_type": "code",
   "execution_count": 8,
   "metadata": {},
   "outputs": [
    {
     "name": "stdout",
     "output_type": "stream",
     "text": [
      "Text: We recently stopped in to sit at the bar and have some appetizers and drinks.  The food was awesome (beef Wellington bites and chili paneer). Robbie was a great bartender. Very knowledgeable and great to talk to while sitting at the bar.\n",
      "\n",
      "Classification: 1\n"
     ]
    }
   ],
   "source": [
    "sample = dfCombined.sample() \n",
    "print(\"Text: \" + sample['text'].values[0]  + \"\\n\")\n",
    "print(\"Classification: \" + str(sample['stars'].values[0]))"
   ]
  },
  {
   "cell_type": "markdown",
   "metadata": {},
   "source": [
    "#### RESPONSE: "
   ]
  },
  {
   "cell_type": "code",
   "execution_count": 9,
   "metadata": {},
   "outputs": [],
   "source": [
    "# Any meaningful answer that discusses words that are more commonly used in positive reviews vs\n",
    "# negative reviews or length analysis will suffice"
   ]
  },
  {
   "cell_type": "markdown",
   "metadata": {},
   "source": [
    "### Part B: Corpus Examination"
   ]
  },
  {
   "cell_type": "markdown",
   "metadata": {},
   "source": [
    "We are looking of the combined string of every review in the usable dataset. In the provided space below use a histogram to visualize the frequency of the 25 most common words. Then answer the questions that follow. Hint: The most_common funtion for the counter may come in handy."
   ]
  },
  {
   "cell_type": "code",
   "execution_count": 12,
   "metadata": {
    "scrolled": true
   },
   "outputs": [],
   "source": [
    "allText = ' '.join(dfCombined[\"text\"])\n",
    "words = allText.split() \n",
    "\n",
    "wordCounts = Counter()\n",
    "for word in words:\n",
    "    wordCounts[word] += 1\n"
   ]
  },
  {
   "cell_type": "code",
   "execution_count": 11,
   "metadata": {},
   "outputs": [
    {
     "name": "stdout",
     "output_type": "stream",
     "text": [
      "Length of all text:\n",
      "11676339\n",
      "Number of unique words:\n",
      "101317\n"
     ]
    },
    {
     "data": {
      "text/plain": [
       "<BarContainer object of 25 artists>"
      ]
     },
     "execution_count": 11,
     "metadata": {},
     "output_type": "execute_result"
    },
    {
     "data": {
      "image/png": "[encoded data removed]",
      "text/plain": [
       "<Figure size 720x720 with 1 Axes>"
      ]
     },
     "metadata": {
      "needs_background": "light"
     },
     "output_type": "display_data"
    }
   ],
   "source": [
    "print(\"Length of all text:\")\n",
    "print(len(allText))\n",
    "print(\"Number of unique words:\")\n",
    "print(len(wordCounts))\n",
    "### Begin Part B\n",
    "mostCommon = dict(wordCounts.most_common(25))\n",
    "\n",
    "fig, ax = plt.subplots(figsize=(10,10))\n",
    "ax.bar(mostCommon.keys(), mostCommon.values(), 1, color='g')\n",
    "### End Part B"
   ]
  },
  {
   "cell_type": "markdown",
   "metadata": {},
   "source": [
    "#### What do you notice about the most common words? Do you think they useful in classifying a review?"
   ]
  },
  {
   "cell_type": "markdown",
   "metadata": {},
   "source": [
    "#### RESPONSE: "
   ]
  },
  {
   "cell_type": "code",
   "execution_count": 14,
   "metadata": {},
   "outputs": [],
   "source": [
    "# blah"
   ]
  },
  {
   "cell_type": "markdown",
   "metadata": {},
   "source": [
    "Look at some of the least common words below. Define the variable least common."
   ]
  },
  {
   "cell_type": "code",
   "execution_count": 16,
   "metadata": {},
   "outputs": [],
   "source": [
    "### Begin Part B\n",
    "leastCommon = dict(wordCounts.most_common()[:-10-1:-1])\n",
    "### End Part B"
   ]
  },
  {
   "cell_type": "code",
   "execution_count": 17,
   "metadata": {},
   "outputs": [
    {
     "name": "stdout",
     "output_type": "stream",
     "text": [
      "{'back...what': 1, 'cared....': 1, 'Busy..': 1, 'later...NO': 1, 'server..': 1, 'on..had': 1, 'nearby..': 1, '$200.00.': 1, '(uncommon)': 1, 'ect).': 1}\n"
     ]
    }
   ],
   "source": [
    "print(leastCommon)"
   ]
  },
  {
   "cell_type": "markdown",
   "metadata": {},
   "source": [
    "#### What do you notice about the least common words? Do you think they useful in classifying a review"
   ]
  },
  {
   "cell_type": "markdown",
   "metadata": {},
   "source": [
    "#### RESPONSE: "
   ]
  },
  {
   "cell_type": "code",
   "execution_count": null,
   "metadata": {},
   "outputs": [],
   "source": [
    "# blah"
   ]
  },
  {
   "cell_type": "markdown",
   "metadata": {},
   "source": [
    "### Part C: Identifying Unique Most Common Words of Each Classification"
   ]
  },
  {
   "cell_type": "markdown",
   "metadata": {},
   "source": [
    "We now want to find the most common words in each classification set that is not included in the other. Basically, we find the most common words in five star reviews that are not in the most common set of words for one star reviews and vice versa. Fill out the below code and answer the following questions."
   ]
  },
  {
   "cell_type": "code",
   "execution_count": 23,
   "metadata": {},
   "outputs": [
    {
     "name": "stdout",
     "output_type": "stream",
     "text": [
      "Most common words in one star reviews: \n",
      "{'then': 2142, 'told': 3140, 'said': 3075, 'came': 2090, 'order': 2016, 'after': 2387, 'she': 3961, 'over': 2152, 'her': 2675, 'customer': 1774, 'did': 2248, 'ordered': 1768, 'went': 2080, 'could': 2290, \"don't\": 2405, 'going': 1762, 'minutes': 1854, 'no': 3909, 'asked': 2314, 'who': 1849, 'never': 2886, \"didn't\": 2615}\n",
      "\n",
      "Most common words in five star reviews: \n",
      "{'some': 1460, 'always': 1721, 'staff': 1198, '-': 1372, 'made': 1148, 'come': 1071, 'recommend': 1257, 'great': 3288, 'Great': 1211, 'friendly': 1167, \"it's\": 1247, \"I've\": 1590, 'has': 1425, 'can': 1671, 'definitely': 1342, \"I'm\": 1184, 'nice': 1136, 'also': 1553, 'love': 1544, 'than': 1038, 'best': 1774, 'really': 1749}\n"
     ]
    }
   ],
   "source": [
    "allTextFives = ' '.join(dfFives[\"text\"])\n",
    "wordsFives = allTextFives.split() \n",
    "\n",
    "### Begin Part C\n",
    "# Find the 100 most common words that are found in the five star reviews\n",
    "wordCountsFives = Counter()\n",
    "for word in wordsFives:\n",
    "    wordCountsFives[word] += 1\n",
    "    \n",
    "mostCommonFives = dict(wordCountsFives.most_common(100))\n",
    "### End Part C\n",
    "\n",
    "\n",
    "\n",
    "allTextOnes = ' '.join(dfOnes[\"text\"])\n",
    "wordsOnes = allTextOnes.split() \n",
    "\n",
    "### Begin Part C\n",
    "# Find the 100 most common words that are found in the one star reviews\n",
    "wordCountsOnes = Counter()\n",
    "for word in wordsOnes:\n",
    "    wordCountsOnes[word] += 1\n",
    "mostCommonOnes = dict(wordCountsOnes.most_common(100))\n",
    "### End Part C\n",
    "\n",
    "### Begin Part C\n",
    "# Subtract sets in order to find the most common unique words for each set\n",
    "fivesUnique = { k : mostCommonFives[k] for k in set(mostCommonFives) - set(mostCommonOnes) }\n",
    "onesUnique = { k : mostCommonOnes[k] for k in set(mostCommonOnes) - set(mostCommonFives) }\n",
    "### End Part C\n",
    "\n",
    "print(\"Most common words in one star reviews: \")\n",
    "print(onesUnique)\n",
    "print()\n",
    "print(\"Most common words in five star reviews: \")\n",
    "print(fivesUnique)"
   ]
  },
  {
   "cell_type": "markdown",
   "metadata": {},
   "source": [
    "#### What do you notice about these words above? Are they more respresentitive of each classification? What words do you thing are good indicators of each review? What words are not so good?"
   ]
  },
  {
   "cell_type": "markdown",
   "metadata": {},
   "source": [
    "#### RESPONSE: "
   ]
  },
  {
   "cell_type": "code",
   "execution_count": 32,
   "metadata": {},
   "outputs": [],
   "source": [
    "# blah"
   ]
  },
  {
   "cell_type": "markdown",
   "metadata": {},
   "source": [
    "## 2. Testing different Models"
   ]
  },
  {
   "cell_type": "markdown",
   "metadata": {},
   "source": [
    "### Part D: Baseline Model"
   ]
  },
  {
   "cell_type": "markdown",
   "metadata": {},
   "source": [
    "To see the effect of the bag of words model, we first build a naive baseline model that tries to simply classify the model based on the length of the review. Complete the code below and answer the following questions."
   ]
  },
  {
   "cell_type": "code",
   "execution_count": 29,
   "metadata": {
    "scrolled": true
   },
   "outputs": [
    {
     "data": {
      "text/plain": [
       "LogisticRegression()"
      ]
     },
     "execution_count": 29,
     "metadata": {},
     "output_type": "execute_result"
    }
   ],
   "source": [
    "def baseline_featurize(review):\n",
    "    ### Begin Part D\n",
    "    # Featurize the data based on the length of the review\n",
    "    return np.asarray([len(review)])\n",
    "    ### End Part D\n",
    "\n",
    "def trainModel(X_featurized, y_true):\n",
    "    ### Begin Part D\n",
    "    # Return a model that uses logistic regression\n",
    "    model = LogisticRegression()\n",
    "    model.fit(X_featurized, y_true)\n",
    "    return model\n",
    "    ### End Part D\n",
    "\n",
    "def accuracyData(model, X_featurized, y_true):\n",
    "    ### Begin Part D\n",
    "    # Predict the data given the model and corresponding data. Return the accuracy \n",
    "    # as the percentage of values that were correctly classified. Also print a confusion\n",
    "    # matrix to help visualize the error. Hint: Look at sklearn.metrics.confusion\n",
    "    y_predict = model.predict(X_featurized)\n",
    "    total_num = len(y_true)\n",
    "    total_correct = np.sum([1 if y_predict[i] == y_true[i] else 0 for i in range(len(y_predict))])\n",
    "    total_incorrect = total_num - total_correct\n",
    "    accuracy = total_correct / total_num\n",
    "    print(sklearn.metrics.confusion_matrix(y_true, y_predict, labels=[-1, 1]))\n",
    "    print(accuracy)\n",
    "    ### End Part D\n",
    "    return accuracy\n",
    "    \n",
    "featurized_data = np.stack(np.asarray(dfCombined[\"text\"].apply(baseline_featurize)))\n",
    "y_true = np.asarray(dfCombined[\"stars\"])\n",
    "\n",
    "# print(featurized_data.shape)\n",
    "# print(y_true.shape)\n",
    "\n",
    "model = LogisticRegression()\n",
    "\n",
    "model.fit(featurized_data, y_true)\n",
    "    \n",
    "    \n",
    "\n",
    "# currFeaturized_data = np.stack(np.asarray(dfTrainset[\"text\"].apply(baseline_featurize)))\n",
    "# currModel = trainModel(currFeaturized_data, np.asarray(dfTrainset[\"stars\"]))\n",
    "\n",
    "# testFeaturized_data = np.stack(np.asarray(dfTestset[\"text\"].apply(baseline_featurize)))\n",
    "\n",
    "\n",
    "\n",
    "\n",
    "# predictData(currModel, testFeaturized_data, np.asarray(dfTestset[\"stars\"]))\n",
    "\n"
   ]
  },
  {
   "cell_type": "code",
   "execution_count": 27,
   "metadata": {},
   "outputs": [
    {
     "data": {
      "text/plain": [
       "array([ 1,  1, -1, ...,  1,  1, -1])"
      ]
     },
     "execution_count": 27,
     "metadata": {},
     "output_type": "execute_result"
    }
   ],
   "source": [
    "# accuracyData(model, "
   ]
  },
  {
   "cell_type": "markdown",
   "metadata": {},
   "source": [
    "#### What did you get as your accuracy? Does that surprise you? Why or why not?"
   ]
  },
  {
   "cell_type": "markdown",
   "metadata": {},
   "source": [
    "#### RESPONSE: "
   ]
  },
  {
   "cell_type": "code",
   "execution_count": null,
   "metadata": {},
   "outputs": [],
   "source": [
    "# Stuff"
   ]
  },
  {
   "cell_type": "markdown",
   "metadata": {},
   "source": [
    "### Part E: Bag of Words Model"
   ]
  },
  {
   "cell_type": "markdown",
   "metadata": {},
   "source": [
    "We now implement the bag of words model below. Please complete the following code segments and answer the following questions."
   ]
  },
  {
   "cell_type": "code",
   "execution_count": 30,
   "metadata": {},
   "outputs": [],
   "source": [
    "# We create a wordsOrdered list that contains all words in the train data that shows up more\n",
    "# than one time\n",
    "\n",
    "modifiedCounter = Counter(el for el in wordCounts.elements() if wordCounts[el] > 1)\n",
    "wordsOrdered = [key for key, _ in modifiedCounter.most_common()]\n",
    "\n",
    "def bag_of_words_featurize(review):\n",
    "    ### Begin Part E\n",
    "    # Code the featurization for the bag of words model. Return the corresponding vector\n",
    "    reviewWords = review.split() \n",
    "    vec = np.zeros(len(modifiedCounter))\n",
    "    for word in reviewWords:\n",
    "        if word in wordsOrdered:\n",
    "            vec[wordsOrdered.index(word)] += 1\n",
    "    return vec\n",
    "    ### End Part E        "
   ]
  },
  {
   "cell_type": "markdown",
   "metadata": {},
   "source": [
    "Run the below script and see how well the bag of words model performs. Warning: this block may\n",
    "around 10 minutes to run."
   ]
  },
  {
   "cell_type": "code",
   "execution_count": 160,
   "metadata": {},
   "outputs": [
    {
     "name": "stdout",
     "output_type": "stream",
     "text": [
      "HELLO\n",
      "HELLO2\n",
      "HELLO3\n",
      "0.95875\n"
     ]
    },
    {
     "data": {
      "text/plain": [
       "0.95875"
      ]
     },
     "execution_count": 160,
     "metadata": {},
     "output_type": "execute_result"
    }
   ],
   "source": [
    "print(\"Beginning Train Featurization\")\n",
    "currBagFeaturized_data = np.stack(np.asarray(dfTrainset[\"text\"].apply(bag_of_words_featurize)))\n",
    "print(\"Beginning Training\")\n",
    "currBagModel = trainModel(currBagFeaturized_data, np.asarray(dfTrainset[\"stars\"]))\n",
    "print(\"Beginning Test Featurization\")\n",
    "testFeaturizedBag_data = np.stack(np.asarray(dfTestset[\"text\"].apply(bag_of_words_featurize)))\n",
    "print(\"Accuracy:\")\n",
    "accuracyData(currBagModel, testFeaturizedBag_data, np.asarray(dfTestset[\"stars\"]))"
   ]
  },
  {
   "cell_type": "markdown",
   "metadata": {},
   "source": [
    "#### What was your accuracy? Does that surprise you? Why did it perform as it did?"
   ]
  },
  {
   "cell_type": "markdown",
   "metadata": {},
   "source": [
    "#### RESPONSE: "
   ]
  },
  {
   "cell_type": "code",
   "execution_count": 31,
   "metadata": {},
   "outputs": [],
   "source": [
    "# ANS"
   ]
  },
  {
   "cell_type": "code",
   "execution_count": 33,
   "metadata": {
    "scrolled": true
   },
   "outputs": [],
   "source": [
    "intermed = dict(enumerate(wordsOrdered))\n",
    "wordPosition = {y:x for x,y in intermed.items()}"
   ]
  },
  {
   "cell_type": "markdown",
   "metadata": {},
   "source": [
    "### Part F: Examining Bag of Words Weights"
   ]
  },
  {
   "cell_type": "markdown",
   "metadata": {},
   "source": [
    "We have a function that gets the weight of a word below in the weight vector generated from the bag of words model. Answer the question below"
   ]
  },
  {
   "cell_type": "code",
   "execution_count": 35,
   "metadata": {},
   "outputs": [],
   "source": [
    "def weightOfWords(word):\n",
    "    if word not in wordPosition.keys():\n",
    "        print(\"Word does not exist in model, no weight is assigned to it\")\n",
    "        return\n",
    "    return currBagModel.coef_[0][wordPosition[word]]\n"
   ]
  },
  {
   "cell_type": "code",
   "execution_count": null,
   "metadata": {},
   "outputs": [],
   "source": [
    "# Try different words here\n",
    "weightOfWords('good')"
   ]
  },
  {
   "cell_type": "markdown",
   "metadata": {},
   "source": [
    "#### List three words that have positive weights. List three that have negative weights. Explain why that makes sense."
   ]
  },
  {
   "cell_type": "markdown",
   "metadata": {},
   "source": [
    "#### RESPONSE: "
   ]
  },
  {
   "cell_type": "code",
   "execution_count": 37,
   "metadata": {},
   "outputs": [],
   "source": [
    "# Any set of words that works is sufficient. Ex: 'him', 'her', 'bad' are negatively weighted ..."
   ]
  },
  {
   "cell_type": "markdown",
   "metadata": {},
   "source": [
    "### Part G: Binary Bag of Words"
   ]
  },
  {
   "cell_type": "markdown",
   "metadata": {},
   "source": [
    "There are times when we only want to identify whether a word is in a review or not and disregard the number of times it has shown up in the review. In this case, we find binary bag of words more useful that our regualar bag of words model. Hypothesize which model should run better given the examination of the dataset. Complete the code below and answer the questions below."
   ]
  },
  {
   "cell_type": "code",
   "execution_count": null,
   "metadata": {},
   "outputs": [],
   "source": [
    "def bag_of_words_binary_featurize(review):\n",
    "    ### Begin Part G\n",
    "    reviewWords = review.split() \n",
    "    vec = np.zeros(len(modifiedCounter))\n",
    "    for word in reviewWords:\n",
    "        if word in wordsOrdered:\n",
    "            vec[wordsOrdered.index(word)] = 1\n",
    "    return vec\n",
    "    ### End Part G"
   ]
  },
  {
   "cell_type": "markdown",
   "metadata": {},
   "source": [
    "Run the below script and see how well the bag of words model performs. Warning: this block may\n",
    "around 10 minutes to run."
   ]
  },
  {
   "cell_type": "code",
   "execution_count": 171,
   "metadata": {},
   "outputs": [
    {
     "name": "stdout",
     "output_type": "stream",
     "text": [
      "HELLO\n",
      "HELLO2\n",
      "HELLO3\n",
      "0.95475\n"
     ]
    },
    {
     "data": {
      "text/plain": [
       "0.95475"
      ]
     },
     "execution_count": 171,
     "metadata": {},
     "output_type": "execute_result"
    }
   ],
   "source": [
    "print(\"Beginning Train Featurization\")\n",
    "currBinBagFeaturized_data = np.stack(np.asarray(dfTrainset[\"text\"].apply(bag_of_words_binary_featurize)))\n",
    "print(\"Beginning Training\")\n",
    "currBinBagModel = trainModel(currBinBagFeaturized_data, np.asarray(dfTrainset[\"stars\"]))\n",
    "print(\"Beginning Test Featurization\")\n",
    "testFeaturizedBinBag_data = np.stack(np.asarray(dfTestset[\"text\"].apply(bag_of_words_binary_featurize)))\n",
    "print(\"Accuracy:\")\n",
    "accuracyData(currBinBagModel, testFeaturizedBinBag_data, np.asarray(dfTestset[\"stars\"]))"
   ]
  },
  {
   "cell_type": "markdown",
   "metadata": {},
   "source": [
    "#### What was your accuracy percentage? Was it what you expected? How did it compare to the regular Bag of Words model?"
   ]
  },
  {
   "cell_type": "markdown",
   "metadata": {},
   "source": [
    "#### RESPONSE:"
   ]
  },
  {
   "cell_type": "code",
   "execution_count": 39,
   "metadata": {},
   "outputs": [],
   "source": [
    "# blah"
   ]
  },
  {
   "cell_type": "markdown",
   "metadata": {},
   "source": [
    "### Part H: Bag of Words Negetive Features"
   ]
  },
  {
   "cell_type": "markdown",
   "metadata": {},
   "source": [
    "There are times where we also want to identify negative words as negative features instead of regular features. For example if we get a review: \"The food is not good\", the word \"good\" is used in a negative connotation and should be treated as such. Thus we make new features for the negative of each of our chosen words. Complete the code below and answer the following questions. "
   ]
  },
  {
   "cell_type": "code",
   "execution_count": null,
   "metadata": {},
   "outputs": [],
   "source": [
    "def bag_of_words_neg_featurize(review):\n",
    "    ### Begin Part H\n",
    "    reviewWords = review.split() \n",
    "    vec = np.zeros(len(modifiedCounter)*2)\n",
    "    isNegative = False\n",
    "    for word in reviewWords:\n",
    "        if word in wordsOrdered:\n",
    "            if isNegative:\n",
    "                vec[wordsOrdered.index(word)+len(modifiedCounter)] += 1\n",
    "            else:\n",
    "                vec[wordsOrdered.index(word)] += 1\n",
    "            isNegative = False\n",
    "        if \"n't\" in word or word == \"not\":\n",
    "            isNegative = True\n",
    "    return vec\n",
    "    ### End Part H"
   ]
  },
  {
   "cell_type": "markdown",
   "metadata": {},
   "source": [
    "Run the below script and see how well the bag of words model performs. Warning: this block may\n",
    "around 10 minutes to run."
   ]
  },
  {
   "cell_type": "code",
   "execution_count": 173,
   "metadata": {},
   "outputs": [
    {
     "name": "stdout",
     "output_type": "stream",
     "text": [
      "HELLO\n",
      "HELLO2\n",
      "HELLO3\n",
      "0.96\n"
     ]
    },
    {
     "data": {
      "text/plain": [
       "0.96"
      ]
     },
     "execution_count": 173,
     "metadata": {},
     "output_type": "execute_result"
    }
   ],
   "source": [
    "print(\"Beginning Train Featurization\")\n",
    "neg_data = np.stack(np.asarray(dfTrainset[\"text\"].apply(bag_of_words_neg_featurize)))\n",
    "print(\"Beginning Training\")\n",
    "negModel = trainModel(neg_data, np.asarray(dfTrainset[\"stars\"]))\n",
    "print(\"Beginning Test Featurization\")\n",
    "testFeaturizedNeg_data = np.stack(np.asarray(dfTestset[\"text\"].apply(bag_of_words_neg_featurize)))\n",
    "print(\"Accuracy:\")\n",
    "accuracyData(negModel, testFeaturizedNeg_data, np.asarray(dfTestset[\"stars\"]))"
   ]
  },
  {
   "cell_type": "markdown",
   "metadata": {},
   "source": [
    "#### How did this model perform? Is it as expected? Why did it perform this way?"
   ]
  },
  {
   "cell_type": "markdown",
   "metadata": {},
   "source": [
    "#### RESPONSE:"
   ]
  },
  {
   "cell_type": "code",
   "execution_count": null,
   "metadata": {},
   "outputs": [],
   "source": [
    "# Bleh"
   ]
  },
  {
   "cell_type": "markdown",
   "metadata": {},
   "source": [
    "### Part I: Negative Binary Features"
   ]
  },
  {
   "cell_type": "markdown",
   "metadata": {},
   "source": [
    "Follow the code below and answer the questions below for combining the two features we worked on."
   ]
  },
  {
   "cell_type": "code",
   "execution_count": null,
   "metadata": {},
   "outputs": [],
   "source": [
    "def bag_of_words_neg_binary_featurize(review):\n",
    "    ### Begin Part I\n",
    "    reviewWords = review.split() \n",
    "    vec = np.zeros(len(modifiedCounter)*2)\n",
    "    isNegative = False\n",
    "    for word in reviewWords:\n",
    "        if word in wordsOrdered:\n",
    "            if isNegative:\n",
    "                vec[wordsOrdered.index(word)+len(modifiedCounter)] = 1\n",
    "            else:\n",
    "                vec[wordsOrdered.index(word)] = 1\n",
    "            isNegative = False\n",
    "        if \"n't\" in word or word == \"not\":\n",
    "            isNegative = True\n",
    "    return vec\n",
    "    ### End Part I"
   ]
  },
  {
   "cell_type": "markdown",
   "metadata": {},
   "source": [
    "Run the below script and see how well the bag of words model performs. Warning: this block may around 10 minutes to run."
   ]
  },
  {
   "cell_type": "code",
   "execution_count": 184,
   "metadata": {},
   "outputs": [
    {
     "name": "stdout",
     "output_type": "stream",
     "text": [
      "HELLO\n",
      "HELLO2\n",
      "HELLO3\n",
      "[[1927   78]\n",
      " [  93 1902]]\n",
      "0.95725\n"
     ]
    },
    {
     "data": {
      "text/plain": [
       "0.95725"
      ]
     },
     "execution_count": 184,
     "metadata": {},
     "output_type": "execute_result"
    }
   ],
   "source": [
    "print(\"Beginning Train Featurization\")\n",
    "negbin_data = np.stack(np.asarray(dfTrainset[\"text\"].apply(bag_of_words_neg_binary_featurize)))\n",
    "print(\"Beginning Training\")\n",
    "negBinModel = trainModel(negbin_data, np.asarray(dfTrainset[\"stars\"]))\n",
    "print(\"Beginning Test Featurization\")\n",
    "testFeaturizedNegBin_data = np.stack(np.asarray(dfTestset[\"text\"].apply(bag_of_words_neg_binary_featurize)))\n",
    "print(\"Accuracy:\")\n",
    "accuracyData(negBinModel, testFeaturizedNegBin_data, np.asarray(dfTestset[\"stars\"]))"
   ]
  },
  {
   "cell_type": "markdown",
   "metadata": {},
   "source": [
    "#### Was the result as expected? Why or why not?"
   ]
  },
  {
   "cell_type": "markdown",
   "metadata": {},
   "source": [
    "#### RESPONSE:"
   ]
  },
  {
   "cell_type": "code",
   "execution_count": null,
   "metadata": {},
   "outputs": [],
   "source": [
    "# answer"
   ]
  },
  {
   "cell_type": "markdown",
   "metadata": {},
   "source": [
    "## 3. Extra Credit"
   ]
  },
  {
   "cell_type": "markdown",
   "metadata": {},
   "source": [
    "### Part J (OPTIONAL): Enhanced Model"
   ]
  },
  {
   "cell_type": "markdown",
   "metadata": {},
   "source": [
    "In order to get extra credit, Try to create some sort of featurization below that will reach an accuraccy of .97 or higher. Ideas to keep in mind are the Bigram model that was discussed in the notes that takes consecutive words into account as well as methods to increase the number of features we use. Good luck!!"
   ]
  },
  {
   "cell_type": "code",
   "execution_count": null,
   "metadata": {},
   "outputs": [],
   "source": [
    "def bag_of_words_extra_credit_featurize(review):\n",
    "    ### Begin Part J\n",
    "    # User solution!\n",
    "    ### End Part J"
   ]
  },
  {
   "cell_type": "code",
   "execution_count": null,
   "metadata": {},
   "outputs": [],
   "source": [
    "print(\"Beginning Train Featurization\")\n",
    "ExtraBagFeaturized_data = np.stack(np.asarray(dfTrainset[\"text\"].apply(bag_of_words_extra_credit_featurize)))\n",
    "print(\"Beginning Training\")\n",
    "ExtraBagModel = trainModel(ExtraBagFeaturized_data, np.asarray(dfTrainset[\"stars\"]))\n",
    "print(\"Beginning Test Featurization\")\n",
    "testFeaturizedBinBag_extra = np.stack(np.asarray(dfTestset[\"text\"].apply(bag_of_words_extra_credit_featurize)))\n",
    "print(\"Accuracy:\")\n",
    "accuracyData(ExtraBagModel, testFeaturizedBinBag_extra, np.asarray(dfTestset[\"stars\"]))"
   ]
  },
  {
   "cell_type": "code",
   "execution_count": null,
   "metadata": {},
   "outputs": [],
   "source": [
    "# EXTRA CREDIT:.....HELLo......(BIGRAM REMEMBER) 0.97 REQUIRED"
   ]
  },
  {
   "cell_type": "code",
   "execution_count": 6,
   "metadata": {},
   "outputs": [
    {
     "ename": "ValueError",
     "evalue": "Expected object or value",
     "output_type": "error",
     "traceback": [
      "\u001b[0;31m---------------------------------------------------------------------------\u001b[0m",
      "\u001b[0;31mValueError\u001b[0m                                Traceback (most recent call last)",
      "\u001b[0;32m<ipython-input-6-acba803a3ee8>\u001b[0m in \u001b[0;36m<module>\u001b[0;34m()\u001b[0m\n\u001b[1;32m      7\u001b[0m \u001b[0;34m\u001b[0m\u001b[0m\n\u001b[1;32m      8\u001b[0m \u001b[0mdf\u001b[0m \u001b[0;34m=\u001b[0m \u001b[0mpd\u001b[0m\u001b[0;34m.\u001b[0m\u001b[0mDataFrame\u001b[0m\u001b[0;34m(\u001b[0m\u001b[0;34m)\u001b[0m\u001b[0;34m\u001b[0m\u001b[0m\n\u001b[0;32m----> 9\u001b[0;31m \u001b[0;32mfor\u001b[0m \u001b[0mchunk\u001b[0m \u001b[0;32min\u001b[0m \u001b[0mdata\u001b[0m\u001b[0;34m:\u001b[0m\u001b[0;34m\u001b[0m\u001b[0m\n\u001b[0m\u001b[1;32m     10\u001b[0m     \u001b[0mdf\u001b[0m \u001b[0;34m=\u001b[0m \u001b[0mpd\u001b[0m\u001b[0;34m.\u001b[0m\u001b[0mconcat\u001b[0m\u001b[0;34m(\u001b[0m\u001b[0;34m[\u001b[0m\u001b[0mdf\u001b[0m\u001b[0;34m,\u001b[0m \u001b[0mchunk\u001b[0m\u001b[0;34m]\u001b[0m\u001b[0;34m)\u001b[0m\u001b[0;34m\u001b[0m\u001b[0m\n\u001b[1;32m     11\u001b[0m     \u001b[0;32mbreak\u001b[0m\u001b[0;34m\u001b[0m\u001b[0m\n",
      "\u001b[0;32m/anaconda3/lib/python3.6/site-packages/pandas/io/json/json.py\u001b[0m in \u001b[0;36m__next__\u001b[0;34m(self)\u001b[0m\n\u001b[1;32m    568\u001b[0m         \u001b[0;32mif\u001b[0m \u001b[0mlines\u001b[0m\u001b[0;34m:\u001b[0m\u001b[0;34m\u001b[0m\u001b[0m\n\u001b[1;32m    569\u001b[0m             \u001b[0mlines_json\u001b[0m \u001b[0;34m=\u001b[0m \u001b[0mself\u001b[0m\u001b[0;34m.\u001b[0m\u001b[0m_combine_lines\u001b[0m\u001b[0;34m(\u001b[0m\u001b[0mlines\u001b[0m\u001b[0;34m)\u001b[0m\u001b[0;34m\u001b[0m\u001b[0m\n\u001b[0;32m--> 570\u001b[0;31m             \u001b[0mobj\u001b[0m \u001b[0;34m=\u001b[0m \u001b[0mself\u001b[0m\u001b[0;34m.\u001b[0m\u001b[0m_get_object_parser\u001b[0m\u001b[0;34m(\u001b[0m\u001b[0mlines_json\u001b[0m\u001b[0;34m)\u001b[0m\u001b[0;34m\u001b[0m\u001b[0m\n\u001b[0m\u001b[1;32m    571\u001b[0m \u001b[0;34m\u001b[0m\u001b[0m\n\u001b[1;32m    572\u001b[0m             \u001b[0;31m# Make sure that the returned objects have the right index.\u001b[0m\u001b[0;34m\u001b[0m\u001b[0;34m\u001b[0m\u001b[0m\n",
      "\u001b[0;32m/anaconda3/lib/python3.6/site-packages/pandas/io/json/json.py\u001b[0m in \u001b[0;36m_get_object_parser\u001b[0;34m(self, json)\u001b[0m\n\u001b[1;32m    544\u001b[0m         \u001b[0mobj\u001b[0m \u001b[0;34m=\u001b[0m \u001b[0;32mNone\u001b[0m\u001b[0;34m\u001b[0m\u001b[0m\n\u001b[1;32m    545\u001b[0m         \u001b[0;32mif\u001b[0m \u001b[0mtyp\u001b[0m \u001b[0;34m==\u001b[0m \u001b[0;34m'frame'\u001b[0m\u001b[0;34m:\u001b[0m\u001b[0;34m\u001b[0m\u001b[0m\n\u001b[0;32m--> 546\u001b[0;31m             \u001b[0mobj\u001b[0m \u001b[0;34m=\u001b[0m \u001b[0mFrameParser\u001b[0m\u001b[0;34m(\u001b[0m\u001b[0mjson\u001b[0m\u001b[0;34m,\u001b[0m \u001b[0;34m**\u001b[0m\u001b[0mkwargs\u001b[0m\u001b[0;34m)\u001b[0m\u001b[0;34m.\u001b[0m\u001b[0mparse\u001b[0m\u001b[0;34m(\u001b[0m\u001b[0;34m)\u001b[0m\u001b[0;34m\u001b[0m\u001b[0m\n\u001b[0m\u001b[1;32m    547\u001b[0m \u001b[0;34m\u001b[0m\u001b[0m\n\u001b[1;32m    548\u001b[0m         \u001b[0;32mif\u001b[0m \u001b[0mtyp\u001b[0m \u001b[0;34m==\u001b[0m \u001b[0;34m'series'\u001b[0m \u001b[0;32mor\u001b[0m \u001b[0mobj\u001b[0m \u001b[0;32mis\u001b[0m \u001b[0;32mNone\u001b[0m\u001b[0;34m:\u001b[0m\u001b[0;34m\u001b[0m\u001b[0m\n",
      "\u001b[0;32m/anaconda3/lib/python3.6/site-packages/pandas/io/json/json.py\u001b[0m in \u001b[0;36mparse\u001b[0;34m(self)\u001b[0m\n\u001b[1;32m    636\u001b[0m \u001b[0;34m\u001b[0m\u001b[0m\n\u001b[1;32m    637\u001b[0m         \u001b[0;32melse\u001b[0m\u001b[0;34m:\u001b[0m\u001b[0;34m\u001b[0m\u001b[0m\n\u001b[0;32m--> 638\u001b[0;31m             \u001b[0mself\u001b[0m\u001b[0;34m.\u001b[0m\u001b[0m_parse_no_numpy\u001b[0m\u001b[0;34m(\u001b[0m\u001b[0;34m)\u001b[0m\u001b[0;34m\u001b[0m\u001b[0m\n\u001b[0m\u001b[1;32m    639\u001b[0m \u001b[0;34m\u001b[0m\u001b[0m\n\u001b[1;32m    640\u001b[0m         \u001b[0;32mif\u001b[0m \u001b[0mself\u001b[0m\u001b[0;34m.\u001b[0m\u001b[0mobj\u001b[0m \u001b[0;32mis\u001b[0m \u001b[0;32mNone\u001b[0m\u001b[0;34m:\u001b[0m\u001b[0;34m\u001b[0m\u001b[0m\n",
      "\u001b[0;32m/anaconda3/lib/python3.6/site-packages/pandas/io/json/json.py\u001b[0m in \u001b[0;36m_parse_no_numpy\u001b[0;34m(self)\u001b[0m\n\u001b[1;32m    851\u001b[0m         \u001b[0;32mif\u001b[0m \u001b[0morient\u001b[0m \u001b[0;34m==\u001b[0m \u001b[0;34m\"columns\"\u001b[0m\u001b[0;34m:\u001b[0m\u001b[0;34m\u001b[0m\u001b[0m\n\u001b[1;32m    852\u001b[0m             self.obj = DataFrame(\n\u001b[0;32m--> 853\u001b[0;31m                 loads(json, precise_float=self.precise_float), dtype=None)\n\u001b[0m\u001b[1;32m    854\u001b[0m         \u001b[0;32melif\u001b[0m \u001b[0morient\u001b[0m \u001b[0;34m==\u001b[0m \u001b[0;34m\"split\"\u001b[0m\u001b[0;34m:\u001b[0m\u001b[0;34m\u001b[0m\u001b[0m\n\u001b[1;32m    855\u001b[0m             decoded = {str(k): v for k, v in compat.iteritems(\n",
      "\u001b[0;31mValueError\u001b[0m: Expected object or value"
     ]
    }
   ],
   "source": [
    "# RUN EVERY WITH 1-2 and 4-5 STARS\n",
    "# RUN EVERYTHING WITH NEW DATASET\n",
    "# BIGRAMS, NUMPY ARRAYS"
   ]
  },
  {
   "cell_type": "code",
   "execution_count": null,
   "metadata": {},
   "outputs": [],
   "source": []
  },
  {
   "cell_type": "code",
   "execution_count": 14,
   "metadata": {},
   "outputs": [
    {
     "name": "stdout",
     "output_type": "stream",
     "text": [
      "<class 'pandas.core.frame.DataFrame'>\n"
     ]
    }
   ],
   "source": [
    "max_records = 140000\n",
    "data = pd.read_json('yelp_academic_dataset_review.json', lines=True, chunksize = max_records)\n",
    "\n",
    "df = pd.DataFrame()\n",
    "for chunk in data:\n",
    "    df = pd.concat([df, chunk])\n",
    "    break\n",
    "    \n",
    "print(type(df))\n",
    "\n",
    "\n",
    "df.to_csv(r'yelp_academic_dataset_review.csv', index = False)"
   ]
  },
  {
   "cell_type": "code",
   "execution_count": null,
   "metadata": {},
   "outputs": [],
   "source": []
  }
 ],
 "metadata": {
  "kernelspec": {
   "display_name": "Python 3",
   "language": "python",
   "name": "python3"
  },
  "language_info": {
   "codemirror_mode": {
    "name": "ipython",
    "version": 3
   },
   "file_extension": ".py",
   "mimetype": "text/x-python",
   "name": "python",
   "nbconvert_exporter": "python",
   "pygments_lexer": "ipython3",
   "version": "3.8.3"
  }
 },
 "nbformat": 4,
 "nbformat_minor": 2
}
